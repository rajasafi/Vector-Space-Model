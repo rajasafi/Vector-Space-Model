{
  "nbformat": 4,
  "nbformat_minor": 0,
  "metadata": {
    "colab": {
      "provenance": [],
      "authorship_tag": "ABX9TyO7x2+M5LcIxv/0tj7SF+iX",
      "include_colab_link": true
    },
    "kernelspec": {
      "name": "python3",
      "display_name": "Python 3"
    },
    "language_info": {
      "name": "python"
    }
  },
  "cells": [
    {
      "cell_type": "markdown",
      "metadata": {
        "id": "view-in-github",
        "colab_type": "text"
      },
      "source": [
        "<a href=\"https://colab.research.google.com/github/rajasafi/Vector-Space-Model/blob/main/VectorSM.ipynb\" target=\"_parent\"><img src=\"https://colab.research.google.com/assets/colab-badge.svg\" alt=\"Open In Colab\"/></a>"
      ]
    },
    {
      "cell_type": "code",
      "source": [
        "import numpy as np\n",
        "import pandas as pd"
      ],
      "metadata": {
        "id": "Z7mHkdGQDOEw"
      },
      "execution_count": null,
      "outputs": []
    },
    {
      "cell_type": "code",
      "execution_count": null,
      "metadata": {
        "colab": {
          "base_uri": "https://localhost:8080/"
        },
        "id": "Qbj9y0zrukSC",
        "outputId": "52ddcf73-6cad-4deb-917b-4112b67ea50d"
      },
      "outputs": [
        {
          "output_type": "stream",
          "name": "stdout",
          "text": [
            "['algorithm' 'along' 'an' 'and' 'artificial' 'as' 'atoms' 'biochemistry'\n",
            " 'branch' 'by' 'calculation' 'called' 'chemical' 'chemistry' 'composed'\n",
            " 'compounds' 'computer' 'concepts' 'culture' 'defined' 'demonstrated'\n",
            " 'discipline' 'elements' 'energy' 'everyday' 'experimentation' 'explores'\n",
            " 'finite' 'force' 'implementable' 'in' 'instructions' 'intelligence'\n",
            " 'interaction' 'involved' 'involves' 'ions' 'is' 'its' 'life' 'living'\n",
            " 'machine' 'machines' 'mathematics' 'matter' 'molecules' 'motion'\n",
            " 'natural' 'observation' 'of' 'organisms' 'patterns' 'physics' 'processes'\n",
            " 'related' 'relationships' 'science' 'scientific' 'sequence' 'social'\n",
            " 'society' 'sociology' 'sometimes' 'space' 'study' 'such' 'surrounds'\n",
            " 'that' 'the' 'through' 'time' 'to' 'well' 'with' 'within']\n",
            "(7, 75)\n"
          ]
        }
      ],
      "source": [
        "from sklearn.feature_extraction.text import TfidfVectorizer\n",
        "corpus = [\n",
        "      'In computer science artificial intelligence sometimes called machine intelligence is intelligence demonstrated by machines',\n",
        "\n",
        "      'Experimentation calculation and Observation is called science',\n",
        "\n",
        "      'Physics is a natural science that involves the study of matter and its motion through space and time, along with related concepts such as energy and force',\n",
        "      \n",
        "      'In mathematics and computer science an algorithm is a finite sequence of well-defined computer-implementable instructions',\n",
        "\n",
        "      'Chemistry is the scientific discipline involved with elements and compounds composed of atoms, molecules and ions',\n",
        "\n",
        "      'Biochemistry is the branch of science that explores the chemical processes within and related to living organisms',\n",
        "\n",
        "      'Sociology is the study of society, patterns of social relationships, social interaction, and culture that surrounds everyday life',\n",
        "         ]\n",
        "#corpus = open('silmarillion.txt','r')\n",
        "\n",
        "vectorizer = TfidfVectorizer()\n",
        "X = vectorizer.fit_transform(corpus)\n",
        "print(vectorizer.get_feature_names_out())\n",
        "#['and', 'document', 'first', 'is', 'one', 'second', 'the', 'third', 'this']\n",
        "print(X.shape)"
      ]
    },
    {
      "cell_type": "code",
      "source": [
        "# vector space representation\n",
        "import pandas as pd\n",
        "\n",
        "vector = X\n",
        "df1 = pd.DataFrame(vector.toarray(), columns=vectorizer.get_feature_names_out())\n",
        "df1"
      ],
      "metadata": {
        "colab": {
          "base_uri": "https://localhost:8080/",
          "height": 362
        },
        "id": "C2C1vcwYzKy5",
        "outputId": "a48ac279-a305-421c-954a-19ddd7fc7ccb"
      },
      "execution_count": null,
      "outputs": [
        {
          "output_type": "execute_result",
          "data": {
            "text/plain": [
              "   algorithm     along        an       and  artificial        as     atoms  \\\n",
              "0   0.000000  0.000000  0.000000  0.000000    0.238814  0.000000  0.000000   \n",
              "1   0.000000  0.000000  0.000000  0.226934    0.000000  0.000000  0.000000   \n",
              "2   0.000000  0.219588  0.000000  0.312924    0.000000  0.219588  0.000000   \n",
              "3   0.272886  0.000000  0.272886  0.129625    0.000000  0.000000  0.000000   \n",
              "4   0.000000  0.000000  0.000000  0.269381    0.000000  0.000000  0.283548   \n",
              "5   0.000000  0.000000  0.000000  0.133325    0.000000  0.000000  0.000000   \n",
              "6   0.000000  0.000000  0.000000  0.118246    0.000000  0.000000  0.000000   \n",
              "\n",
              "   biochemistry    branch        by  ...      such  surrounds      that  \\\n",
              "0      0.000000  0.000000  0.238814  ...  0.000000   0.000000  0.000000   \n",
              "1      0.000000  0.000000  0.000000  ...  0.000000   0.000000  0.000000   \n",
              "2      0.000000  0.000000  0.000000  ...  0.219588   0.000000  0.155804   \n",
              "3      0.000000  0.000000  0.000000  ...  0.000000   0.000000  0.000000   \n",
              "4      0.000000  0.000000  0.000000  ...  0.000000   0.000000  0.000000   \n",
              "5      0.280673  0.280673  0.000000  ...  0.000000   0.000000  0.199146   \n",
              "6      0.000000  0.000000  0.000000  ...  0.000000   0.248929  0.176623   \n",
              "\n",
              "        the   through      time        to      well      with    within  \n",
              "0  0.000000  0.000000  0.000000  0.000000  0.000000  0.000000  0.000000  \n",
              "1  0.000000  0.000000  0.000000  0.000000  0.000000  0.000000  0.000000  \n",
              "2  0.135270  0.219588  0.219588  0.000000  0.000000  0.182277  0.000000  \n",
              "3  0.000000  0.000000  0.000000  0.000000  0.272886  0.000000  0.000000  \n",
              "4  0.174671  0.000000  0.000000  0.000000  0.000000  0.235369  0.000000  \n",
              "5  0.345800  0.000000  0.000000  0.280673  0.000000  0.000000  0.280673  \n",
              "6  0.153345  0.000000  0.000000  0.000000  0.000000  0.000000  0.000000  \n",
              "\n",
              "[7 rows x 75 columns]"
            ],
            "text/html": [
              "\n",
              "  <div id=\"df-2bafeb68-ddf7-4d54-b9e9-ea4eb1b37e21\">\n",
              "    <div class=\"colab-df-container\">\n",
              "      <div>\n",
              "<style scoped>\n",
              "    .dataframe tbody tr th:only-of-type {\n",
              "        vertical-align: middle;\n",
              "    }\n",
              "\n",
              "    .dataframe tbody tr th {\n",
              "        vertical-align: top;\n",
              "    }\n",
              "\n",
              "    .dataframe thead th {\n",
              "        text-align: right;\n",
              "    }\n",
              "</style>\n",
              "<table border=\"1\" class=\"dataframe\">\n",
              "  <thead>\n",
              "    <tr style=\"text-align: right;\">\n",
              "      <th></th>\n",
              "      <th>algorithm</th>\n",
              "      <th>along</th>\n",
              "      <th>an</th>\n",
              "      <th>and</th>\n",
              "      <th>artificial</th>\n",
              "      <th>as</th>\n",
              "      <th>atoms</th>\n",
              "      <th>biochemistry</th>\n",
              "      <th>branch</th>\n",
              "      <th>by</th>\n",
              "      <th>...</th>\n",
              "      <th>such</th>\n",
              "      <th>surrounds</th>\n",
              "      <th>that</th>\n",
              "      <th>the</th>\n",
              "      <th>through</th>\n",
              "      <th>time</th>\n",
              "      <th>to</th>\n",
              "      <th>well</th>\n",
              "      <th>with</th>\n",
              "      <th>within</th>\n",
              "    </tr>\n",
              "  </thead>\n",
              "  <tbody>\n",
              "    <tr>\n",
              "      <th>0</th>\n",
              "      <td>0.000000</td>\n",
              "      <td>0.000000</td>\n",
              "      <td>0.000000</td>\n",
              "      <td>0.000000</td>\n",
              "      <td>0.238814</td>\n",
              "      <td>0.000000</td>\n",
              "      <td>0.000000</td>\n",
              "      <td>0.000000</td>\n",
              "      <td>0.000000</td>\n",
              "      <td>0.238814</td>\n",
              "      <td>...</td>\n",
              "      <td>0.000000</td>\n",
              "      <td>0.000000</td>\n",
              "      <td>0.000000</td>\n",
              "      <td>0.000000</td>\n",
              "      <td>0.000000</td>\n",
              "      <td>0.000000</td>\n",
              "      <td>0.000000</td>\n",
              "      <td>0.000000</td>\n",
              "      <td>0.000000</td>\n",
              "      <td>0.000000</td>\n",
              "    </tr>\n",
              "    <tr>\n",
              "      <th>1</th>\n",
              "      <td>0.000000</td>\n",
              "      <td>0.000000</td>\n",
              "      <td>0.000000</td>\n",
              "      <td>0.226934</td>\n",
              "      <td>0.000000</td>\n",
              "      <td>0.000000</td>\n",
              "      <td>0.000000</td>\n",
              "      <td>0.000000</td>\n",
              "      <td>0.000000</td>\n",
              "      <td>0.000000</td>\n",
              "      <td>...</td>\n",
              "      <td>0.000000</td>\n",
              "      <td>0.000000</td>\n",
              "      <td>0.000000</td>\n",
              "      <td>0.000000</td>\n",
              "      <td>0.000000</td>\n",
              "      <td>0.000000</td>\n",
              "      <td>0.000000</td>\n",
              "      <td>0.000000</td>\n",
              "      <td>0.000000</td>\n",
              "      <td>0.000000</td>\n",
              "    </tr>\n",
              "    <tr>\n",
              "      <th>2</th>\n",
              "      <td>0.000000</td>\n",
              "      <td>0.219588</td>\n",
              "      <td>0.000000</td>\n",
              "      <td>0.312924</td>\n",
              "      <td>0.000000</td>\n",
              "      <td>0.219588</td>\n",
              "      <td>0.000000</td>\n",
              "      <td>0.000000</td>\n",
              "      <td>0.000000</td>\n",
              "      <td>0.000000</td>\n",
              "      <td>...</td>\n",
              "      <td>0.219588</td>\n",
              "      <td>0.000000</td>\n",
              "      <td>0.155804</td>\n",
              "      <td>0.135270</td>\n",
              "      <td>0.219588</td>\n",
              "      <td>0.219588</td>\n",
              "      <td>0.000000</td>\n",
              "      <td>0.000000</td>\n",
              "      <td>0.182277</td>\n",
              "      <td>0.000000</td>\n",
              "    </tr>\n",
              "    <tr>\n",
              "      <th>3</th>\n",
              "      <td>0.272886</td>\n",
              "      <td>0.000000</td>\n",
              "      <td>0.272886</td>\n",
              "      <td>0.129625</td>\n",
              "      <td>0.000000</td>\n",
              "      <td>0.000000</td>\n",
              "      <td>0.000000</td>\n",
              "      <td>0.000000</td>\n",
              "      <td>0.000000</td>\n",
              "      <td>0.000000</td>\n",
              "      <td>...</td>\n",
              "      <td>0.000000</td>\n",
              "      <td>0.000000</td>\n",
              "      <td>0.000000</td>\n",
              "      <td>0.000000</td>\n",
              "      <td>0.000000</td>\n",
              "      <td>0.000000</td>\n",
              "      <td>0.000000</td>\n",
              "      <td>0.272886</td>\n",
              "      <td>0.000000</td>\n",
              "      <td>0.000000</td>\n",
              "    </tr>\n",
              "    <tr>\n",
              "      <th>4</th>\n",
              "      <td>0.000000</td>\n",
              "      <td>0.000000</td>\n",
              "      <td>0.000000</td>\n",
              "      <td>0.269381</td>\n",
              "      <td>0.000000</td>\n",
              "      <td>0.000000</td>\n",
              "      <td>0.283548</td>\n",
              "      <td>0.000000</td>\n",
              "      <td>0.000000</td>\n",
              "      <td>0.000000</td>\n",
              "      <td>...</td>\n",
              "      <td>0.000000</td>\n",
              "      <td>0.000000</td>\n",
              "      <td>0.000000</td>\n",
              "      <td>0.174671</td>\n",
              "      <td>0.000000</td>\n",
              "      <td>0.000000</td>\n",
              "      <td>0.000000</td>\n",
              "      <td>0.000000</td>\n",
              "      <td>0.235369</td>\n",
              "      <td>0.000000</td>\n",
              "    </tr>\n",
              "    <tr>\n",
              "      <th>5</th>\n",
              "      <td>0.000000</td>\n",
              "      <td>0.000000</td>\n",
              "      <td>0.000000</td>\n",
              "      <td>0.133325</td>\n",
              "      <td>0.000000</td>\n",
              "      <td>0.000000</td>\n",
              "      <td>0.000000</td>\n",
              "      <td>0.280673</td>\n",
              "      <td>0.280673</td>\n",
              "      <td>0.000000</td>\n",
              "      <td>...</td>\n",
              "      <td>0.000000</td>\n",
              "      <td>0.000000</td>\n",
              "      <td>0.199146</td>\n",
              "      <td>0.345800</td>\n",
              "      <td>0.000000</td>\n",
              "      <td>0.000000</td>\n",
              "      <td>0.280673</td>\n",
              "      <td>0.000000</td>\n",
              "      <td>0.000000</td>\n",
              "      <td>0.280673</td>\n",
              "    </tr>\n",
              "    <tr>\n",
              "      <th>6</th>\n",
              "      <td>0.000000</td>\n",
              "      <td>0.000000</td>\n",
              "      <td>0.000000</td>\n",
              "      <td>0.118246</td>\n",
              "      <td>0.000000</td>\n",
              "      <td>0.000000</td>\n",
              "      <td>0.000000</td>\n",
              "      <td>0.000000</td>\n",
              "      <td>0.000000</td>\n",
              "      <td>0.000000</td>\n",
              "      <td>...</td>\n",
              "      <td>0.000000</td>\n",
              "      <td>0.248929</td>\n",
              "      <td>0.176623</td>\n",
              "      <td>0.153345</td>\n",
              "      <td>0.000000</td>\n",
              "      <td>0.000000</td>\n",
              "      <td>0.000000</td>\n",
              "      <td>0.000000</td>\n",
              "      <td>0.000000</td>\n",
              "      <td>0.000000</td>\n",
              "    </tr>\n",
              "  </tbody>\n",
              "</table>\n",
              "<p>7 rows × 75 columns</p>\n",
              "</div>\n",
              "      <button class=\"colab-df-convert\" onclick=\"convertToInteractive('df-2bafeb68-ddf7-4d54-b9e9-ea4eb1b37e21')\"\n",
              "              title=\"Convert this dataframe to an interactive table.\"\n",
              "              style=\"display:none;\">\n",
              "        \n",
              "  <svg xmlns=\"http://www.w3.org/2000/svg\" height=\"24px\"viewBox=\"0 0 24 24\"\n",
              "       width=\"24px\">\n",
              "    <path d=\"M0 0h24v24H0V0z\" fill=\"none\"/>\n",
              "    <path d=\"M18.56 5.44l.94 2.06.94-2.06 2.06-.94-2.06-.94-.94-2.06-.94 2.06-2.06.94zm-11 1L8.5 8.5l.94-2.06 2.06-.94-2.06-.94L8.5 2.5l-.94 2.06-2.06.94zm10 10l.94 2.06.94-2.06 2.06-.94-2.06-.94-.94-2.06-.94 2.06-2.06.94z\"/><path d=\"M17.41 7.96l-1.37-1.37c-.4-.4-.92-.59-1.43-.59-.52 0-1.04.2-1.43.59L10.3 9.45l-7.72 7.72c-.78.78-.78 2.05 0 2.83L4 21.41c.39.39.9.59 1.41.59.51 0 1.02-.2 1.41-.59l7.78-7.78 2.81-2.81c.8-.78.8-2.07 0-2.86zM5.41 20L4 18.59l7.72-7.72 1.47 1.35L5.41 20z\"/>\n",
              "  </svg>\n",
              "      </button>\n",
              "      \n",
              "  <style>\n",
              "    .colab-df-container {\n",
              "      display:flex;\n",
              "      flex-wrap:wrap;\n",
              "      gap: 12px;\n",
              "    }\n",
              "\n",
              "    .colab-df-convert {\n",
              "      background-color: #E8F0FE;\n",
              "      border: none;\n",
              "      border-radius: 50%;\n",
              "      cursor: pointer;\n",
              "      display: none;\n",
              "      fill: #1967D2;\n",
              "      height: 32px;\n",
              "      padding: 0 0 0 0;\n",
              "      width: 32px;\n",
              "    }\n",
              "\n",
              "    .colab-df-convert:hover {\n",
              "      background-color: #E2EBFA;\n",
              "      box-shadow: 0px 1px 2px rgba(60, 64, 67, 0.3), 0px 1px 3px 1px rgba(60, 64, 67, 0.15);\n",
              "      fill: #174EA6;\n",
              "    }\n",
              "\n",
              "    [theme=dark] .colab-df-convert {\n",
              "      background-color: #3B4455;\n",
              "      fill: #D2E3FC;\n",
              "    }\n",
              "\n",
              "    [theme=dark] .colab-df-convert:hover {\n",
              "      background-color: #434B5C;\n",
              "      box-shadow: 0px 1px 3px 1px rgba(0, 0, 0, 0.15);\n",
              "      filter: drop-shadow(0px 1px 2px rgba(0, 0, 0, 0.3));\n",
              "      fill: #FFFFFF;\n",
              "    }\n",
              "  </style>\n",
              "\n",
              "      <script>\n",
              "        const buttonEl =\n",
              "          document.querySelector('#df-2bafeb68-ddf7-4d54-b9e9-ea4eb1b37e21 button.colab-df-convert');\n",
              "        buttonEl.style.display =\n",
              "          google.colab.kernel.accessAllowed ? 'block' : 'none';\n",
              "\n",
              "        async function convertToInteractive(key) {\n",
              "          const element = document.querySelector('#df-2bafeb68-ddf7-4d54-b9e9-ea4eb1b37e21');\n",
              "          const dataTable =\n",
              "            await google.colab.kernel.invokeFunction('convertToInteractive',\n",
              "                                                     [key], {});\n",
              "          if (!dataTable) return;\n",
              "\n",
              "          const docLinkHtml = 'Like what you see? Visit the ' +\n",
              "            '<a target=\"_blank\" href=https://colab.research.google.com/notebooks/data_table.ipynb>data table notebook</a>'\n",
              "            + ' to learn more about interactive tables.';\n",
              "          element.innerHTML = '';\n",
              "          dataTable['output_type'] = 'display_data';\n",
              "          await google.colab.output.renderOutput(dataTable, element);\n",
              "          const docLink = document.createElement('div');\n",
              "          docLink.innerHTML = docLinkHtml;\n",
              "          element.appendChild(docLink);\n",
              "        }\n",
              "      </script>\n",
              "    </div>\n",
              "  </div>\n",
              "  "
            ]
          },
          "metadata": {},
          "execution_count": 13
        }
      ]
    },
    {
      "cell_type": "code",
      "source": [
        "#loading basic packages\n",
        "import nltk\n",
        "\n",
        "nltk.download('punkt')\n",
        "nltk.download('stopwords')"
      ],
      "metadata": {
        "colab": {
          "base_uri": "https://localhost:8080/"
        },
        "id": "5j75edg01YO2",
        "outputId": "9db5a061-9665-4856-b093-f6f42b24f35e"
      },
      "execution_count": null,
      "outputs": [
        {
          "output_type": "stream",
          "name": "stderr",
          "text": [
            "[nltk_data] Downloading package punkt to /root/nltk_data...\n",
            "[nltk_data]   Package punkt is already up-to-date!\n",
            "[nltk_data] Downloading package stopwords to /root/nltk_data...\n",
            "[nltk_data]   Package stopwords is already up-to-date!\n"
          ]
        },
        {
          "output_type": "execute_result",
          "data": {
            "text/plain": [
              "True"
            ]
          },
          "metadata": {},
          "execution_count": 14
        }
      ]
    },
    {
      "cell_type": "code",
      "source": [
        "from nltk.corpus import stopwords\n",
        "\n",
        "print(stopwords.words('english'))\n",
        "stop_words = set(stopwords.words('english'))"
      ],
      "metadata": {
        "colab": {
          "base_uri": "https://localhost:8080/"
        },
        "id": "GzEloDpP2M9u",
        "outputId": "1e07fc99-3764-4071-8573-681fb0d255bc"
      },
      "execution_count": null,
      "outputs": [
        {
          "output_type": "stream",
          "name": "stdout",
          "text": [
            "['i', 'me', 'my', 'myself', 'we', 'our', 'ours', 'ourselves', 'you', \"you're\", \"you've\", \"you'll\", \"you'd\", 'your', 'yours', 'yourself', 'yourselves', 'he', 'him', 'his', 'himself', 'she', \"she's\", 'her', 'hers', 'herself', 'it', \"it's\", 'its', 'itself', 'they', 'them', 'their', 'theirs', 'themselves', 'what', 'which', 'who', 'whom', 'this', 'that', \"that'll\", 'these', 'those', 'am', 'is', 'are', 'was', 'were', 'be', 'been', 'being', 'have', 'has', 'had', 'having', 'do', 'does', 'did', 'doing', 'a', 'an', 'the', 'and', 'but', 'if', 'or', 'because', 'as', 'until', 'while', 'of', 'at', 'by', 'for', 'with', 'about', 'against', 'between', 'into', 'through', 'during', 'before', 'after', 'above', 'below', 'to', 'from', 'up', 'down', 'in', 'out', 'on', 'off', 'over', 'under', 'again', 'further', 'then', 'once', 'here', 'there', 'when', 'where', 'why', 'how', 'all', 'any', 'both', 'each', 'few', 'more', 'most', 'other', 'some', 'such', 'no', 'nor', 'not', 'only', 'own', 'same', 'so', 'than', 'too', 'very', 's', 't', 'can', 'will', 'just', 'don', \"don't\", 'should', \"should've\", 'now', 'd', 'll', 'm', 'o', 're', 've', 'y', 'ain', 'aren', \"aren't\", 'couldn', \"couldn't\", 'didn', \"didn't\", 'doesn', \"doesn't\", 'hadn', \"hadn't\", 'hasn', \"hasn't\", 'haven', \"haven't\", 'isn', \"isn't\", 'ma', 'mightn', \"mightn't\", 'mustn', \"mustn't\", 'needn', \"needn't\", 'shan', \"shan't\", 'shouldn', \"shouldn't\", 'wasn', \"wasn't\", 'weren', \"weren't\", 'won', \"won't\", 'wouldn', \"wouldn't\"]\n"
          ]
        }
      ]
    },
    {
      "cell_type": "markdown",
      "source": [
        "Tokenizing, removing stop words and stemming\n"
      ],
      "metadata": {
        "id": "5BYvjfYV3x04"
      }
    },
    {
      "cell_type": "code",
      "source": [
        " # this function returns a list of tokenized and stemmed words of any text\n",
        "def get_tokenized_list(doc_text):\n",
        "    tokens = nltk.word_tokenize(doc_text)\n",
        "    return tokens\n",
        "\n",
        "# This function will performing stemming on tokenized words\n",
        "def word_stemmer(token_list):\n",
        "  ps = nltk.stem.PorterStemmer()\n",
        "  stemmed = []\n",
        "  for words in token_list:\n",
        "    stemmed.append(ps.stem(words))\n",
        "  return stemmed"
      ],
      "metadata": {
        "id": "8EwM3gCq31ZP"
      },
      "execution_count": null,
      "outputs": []
    },
    {
      "cell_type": "code",
      "source": [
        "# Function to remove stopwords from tokenized word list\n",
        "def remove_stopwords(doc_text):\n",
        "  cleaned_text = []\n",
        "  for words in doc_text:\n",
        "    if words not in stop_words:\n",
        "      cleaned_text.append(words)\n",
        "  return cleaned_text"
      ],
      "metadata": {
        "id": "Fy_e0oUrmsX0"
      },
      "execution_count": null,
      "outputs": []
    },
    {
      "cell_type": "code",
      "source": [
        "#Check for single document\n",
        "print(corpus[2])\n",
        "tokens = get_tokenized_list(corpus[2])\n",
        "print(\"\\nWORD TOKENS:\")\n",
        "print(tokens)\n",
        "doc_text = remove_stopwords(tokens)\n",
        "print(\"\\nAFTER REMOVING STOPWORDS:\")\n",
        "print(doc_text)\n",
        "print(\"\\nAFTER PERFORMING THE WORD STEMMING::\")\n",
        "doc_text = word_stemmer(doc_text)\n",
        "doc_text"
      ],
      "metadata": {
        "colab": {
          "base_uri": "https://localhost:8080/"
        },
        "id": "dXeTlGUUrdx7",
        "outputId": "0f1bebf9-a850-4d2a-f014-d99bb8916e43"
      },
      "execution_count": null,
      "outputs": [
        {
          "output_type": "stream",
          "name": "stdout",
          "text": [
            "Physics is a natural science that involves the study of matter and its motion through space and time, along with related concepts such as energy and force\n",
            "\n",
            "WORD TOKENS:\n",
            "['Physics', 'is', 'a', 'natural', 'science', 'that', 'involves', 'the', 'study', 'of', 'matter', 'and', 'its', 'motion', 'through', 'space', 'and', 'time', ',', 'along', 'with', 'related', 'concepts', 'such', 'as', 'energy', 'and', 'force']\n",
            "\n",
            "AFTER REMOVING STOPWORDS:\n",
            "['Physics', 'natural', 'science', 'involves', 'study', 'matter', 'motion', 'space', 'time', ',', 'along', 'related', 'concepts', 'energy', 'force']\n",
            "\n",
            "AFTER PERFORMING THE WORD STEMMING::\n"
          ]
        },
        {
          "output_type": "execute_result",
          "data": {
            "text/plain": [
              "['physic',\n",
              " 'natur',\n",
              " 'scienc',\n",
              " 'involv',\n",
              " 'studi',\n",
              " 'matter',\n",
              " 'motion',\n",
              " 'space',\n",
              " 'time',\n",
              " ',',\n",
              " 'along',\n",
              " 'relat',\n",
              " 'concept',\n",
              " 'energi',\n",
              " 'forc']"
            ]
          },
          "metadata": {},
          "execution_count": 19
        }
      ]
    },
    {
      "cell_type": "code",
      "source": [
        "doc_ = ' '.join(doc_text)\n",
        "doc_"
      ],
      "metadata": {
        "id": "d5LvQLNFs3jm"
      },
      "execution_count": null,
      "outputs": []
    },
    {
      "cell_type": "markdown",
      "source": [
        "Performing processing on the CORPUS"
      ],
      "metadata": {
        "id": "C3lHy9yoteJd"
      }
    },
    {
      "cell_type": "code",
      "source": [
        "cleaned_corpus=[]\n",
        "for doc in corpus:\n",
        "  tokens = get_tokenized_list(doc)\n",
        "  doc_text = remove_stopwords(tokens)\n",
        "  doc_text = word_stemmer(doc_text)\n",
        "  doc_text = ' '.join(doc_text)\n",
        "  cleaned_corpus.append(doc_text)\n",
        "cleaned_corpus"
      ],
      "metadata": {
        "colab": {
          "base_uri": "https://localhost:8080/"
        },
        "id": "Aaan1qQHt55m",
        "outputId": "42804baa-a440-481a-dbcf-5851e61b7c75"
      },
      "execution_count": null,
      "outputs": [
        {
          "output_type": "execute_result",
          "data": {
            "text/plain": [
              "['in comput scienc artifici intellig sometim call machin intellig intellig demonstr machin',\n",
              " 'experiment calcul observ call scienc',\n",
              " 'physic natur scienc involv studi matter motion space time , along relat concept energi forc',\n",
              " 'in mathemat comput scienc algorithm finit sequenc well-defin computer-implement instruct',\n",
              " 'chemistri scientif disciplin involv element compound compos atom , molecul ion',\n",
              " 'biochemistri branch scienc explor chemic process within relat live organ',\n",
              " 'sociolog studi societi , pattern social relationship , social interact , cultur surround everyday life']"
            ]
          },
          "metadata": {},
          "execution_count": 20
        }
      ]
    },
    {
      "cell_type": "markdown",
      "source": [
        "Fit & Transform to TF-IDF Vectorizer"
      ],
      "metadata": {
        "id": "g7SYJl1wvMFs"
      }
    },
    {
      "cell_type": "code",
      "source": [
        "vectorizerX = TfidfVectorizer()\n",
        "vectorizerX.fit(cleaned_corpus)\n",
        "doc_vector = vectorizerX.transform(cleaned_corpus)\n",
        "print(vectorizerX.get_feature_names_out())\n",
        "\n",
        "print(doc_vector.shape)"
      ],
      "metadata": {
        "colab": {
          "base_uri": "https://localhost:8080/"
        },
        "id": "q_l3uzEmt7fb",
        "outputId": "c55a5ce7-a59c-4ce2-dee0-57a5214a16e8"
      },
      "execution_count": null,
      "outputs": [
        {
          "output_type": "stream",
          "name": "stdout",
          "text": [
            "['algorithm' 'along' 'artifici' 'atom' 'biochemistri' 'branch' 'calcul'\n",
            " 'call' 'chemic' 'chemistri' 'compos' 'compound' 'comput' 'computer'\n",
            " 'concept' 'cultur' 'defin' 'demonstr' 'disciplin' 'element' 'energi'\n",
            " 'everyday' 'experiment' 'explor' 'finit' 'forc' 'implement' 'in'\n",
            " 'instruct' 'intellig' 'interact' 'involv' 'ion' 'life' 'live' 'machin'\n",
            " 'mathemat' 'matter' 'molecul' 'motion' 'natur' 'observ' 'organ' 'pattern'\n",
            " 'physic' 'process' 'relat' 'relationship' 'scienc' 'scientif' 'sequenc'\n",
            " 'social' 'societi' 'sociolog' 'sometim' 'space' 'studi' 'surround' 'time'\n",
            " 'well' 'within']\n",
            "(7, 61)\n"
          ]
        }
      ]
    },
    {
      "cell_type": "markdown",
      "source": [
        "Let see The Vectorizer"
      ],
      "metadata": {
        "id": "RcXxFpe9v79x"
      }
    },
    {
      "cell_type": "code",
      "source": [
        "df1 = pd.DataFrame(doc_vector.toarray(), columns=vectorizerX.get_feature_names_out())\n",
        "df1"
      ],
      "metadata": {
        "colab": {
          "base_uri": "https://localhost:8080/",
          "height": 362
        },
        "id": "E72L1r3Ev6OX",
        "outputId": "b527e110-9329-40c3-fb85-8ea0c8c3fd42"
      },
      "execution_count": null,
      "outputs": [
        {
          "output_type": "execute_result",
          "data": {
            "text/plain": [
              "   algorithm     along  artifici      atom  biochemistri  branch   calcul  \\\n",
              "0   0.000000  0.000000  0.233391  0.000000        0.0000  0.0000  0.00000   \n",
              "1   0.000000  0.000000  0.000000  0.000000        0.0000  0.0000  0.50124   \n",
              "2   0.000000  0.284459  0.000000  0.000000        0.0000  0.0000  0.00000   \n",
              "3   0.306149  0.000000  0.000000  0.000000        0.0000  0.0000  0.00000   \n",
              "4   0.000000  0.000000  0.000000  0.321262        0.0000  0.0000  0.00000   \n",
              "5   0.000000  0.000000  0.000000  0.000000        0.3337  0.3337  0.00000   \n",
              "6   0.000000  0.000000  0.000000  0.000000        0.0000  0.0000  0.00000   \n",
              "\n",
              "       call  chemic  chemistri  ...    social  societi  sociolog   sometim  \\\n",
              "0  0.193734  0.0000   0.000000  ...  0.000000  0.00000   0.00000  0.233391   \n",
              "1  0.416073  0.0000   0.000000  ...  0.000000  0.00000   0.00000  0.000000   \n",
              "2  0.000000  0.0000   0.000000  ...  0.000000  0.00000   0.00000  0.000000   \n",
              "3  0.000000  0.0000   0.000000  ...  0.000000  0.00000   0.00000  0.000000   \n",
              "4  0.000000  0.0000   0.321262  ...  0.000000  0.00000   0.00000  0.000000   \n",
              "5  0.000000  0.3337   0.000000  ...  0.000000  0.00000   0.00000  0.000000   \n",
              "6  0.000000  0.0000   0.000000  ...  0.540559  0.27028   0.27028  0.000000   \n",
              "\n",
              "      space     studi  surround      time      well  within  \n",
              "0  0.000000  0.000000   0.00000  0.000000  0.000000  0.0000  \n",
              "1  0.000000  0.000000   0.00000  0.000000  0.000000  0.0000  \n",
              "2  0.284459  0.236126   0.00000  0.284459  0.000000  0.0000  \n",
              "3  0.000000  0.000000   0.00000  0.000000  0.306149  0.0000  \n",
              "4  0.000000  0.000000   0.00000  0.000000  0.000000  0.0000  \n",
              "5  0.000000  0.000000   0.00000  0.000000  0.000000  0.3337  \n",
              "6  0.000000  0.224355   0.27028  0.000000  0.000000  0.0000  \n",
              "\n",
              "[7 rows x 61 columns]"
            ],
            "text/html": [
              "\n",
              "  <div id=\"df-89db2727-e556-43bf-8a01-d248e35cf81a\">\n",
              "    <div class=\"colab-df-container\">\n",
              "      <div>\n",
              "<style scoped>\n",
              "    .dataframe tbody tr th:only-of-type {\n",
              "        vertical-align: middle;\n",
              "    }\n",
              "\n",
              "    .dataframe tbody tr th {\n",
              "        vertical-align: top;\n",
              "    }\n",
              "\n",
              "    .dataframe thead th {\n",
              "        text-align: right;\n",
              "    }\n",
              "</style>\n",
              "<table border=\"1\" class=\"dataframe\">\n",
              "  <thead>\n",
              "    <tr style=\"text-align: right;\">\n",
              "      <th></th>\n",
              "      <th>algorithm</th>\n",
              "      <th>along</th>\n",
              "      <th>artifici</th>\n",
              "      <th>atom</th>\n",
              "      <th>biochemistri</th>\n",
              "      <th>branch</th>\n",
              "      <th>calcul</th>\n",
              "      <th>call</th>\n",
              "      <th>chemic</th>\n",
              "      <th>chemistri</th>\n",
              "      <th>...</th>\n",
              "      <th>social</th>\n",
              "      <th>societi</th>\n",
              "      <th>sociolog</th>\n",
              "      <th>sometim</th>\n",
              "      <th>space</th>\n",
              "      <th>studi</th>\n",
              "      <th>surround</th>\n",
              "      <th>time</th>\n",
              "      <th>well</th>\n",
              "      <th>within</th>\n",
              "    </tr>\n",
              "  </thead>\n",
              "  <tbody>\n",
              "    <tr>\n",
              "      <th>0</th>\n",
              "      <td>0.000000</td>\n",
              "      <td>0.000000</td>\n",
              "      <td>0.233391</td>\n",
              "      <td>0.000000</td>\n",
              "      <td>0.0000</td>\n",
              "      <td>0.0000</td>\n",
              "      <td>0.00000</td>\n",
              "      <td>0.193734</td>\n",
              "      <td>0.0000</td>\n",
              "      <td>0.000000</td>\n",
              "      <td>...</td>\n",
              "      <td>0.000000</td>\n",
              "      <td>0.00000</td>\n",
              "      <td>0.00000</td>\n",
              "      <td>0.233391</td>\n",
              "      <td>0.000000</td>\n",
              "      <td>0.000000</td>\n",
              "      <td>0.00000</td>\n",
              "      <td>0.000000</td>\n",
              "      <td>0.000000</td>\n",
              "      <td>0.0000</td>\n",
              "    </tr>\n",
              "    <tr>\n",
              "      <th>1</th>\n",
              "      <td>0.000000</td>\n",
              "      <td>0.000000</td>\n",
              "      <td>0.000000</td>\n",
              "      <td>0.000000</td>\n",
              "      <td>0.0000</td>\n",
              "      <td>0.0000</td>\n",
              "      <td>0.50124</td>\n",
              "      <td>0.416073</td>\n",
              "      <td>0.0000</td>\n",
              "      <td>0.000000</td>\n",
              "      <td>...</td>\n",
              "      <td>0.000000</td>\n",
              "      <td>0.00000</td>\n",
              "      <td>0.00000</td>\n",
              "      <td>0.000000</td>\n",
              "      <td>0.000000</td>\n",
              "      <td>0.000000</td>\n",
              "      <td>0.00000</td>\n",
              "      <td>0.000000</td>\n",
              "      <td>0.000000</td>\n",
              "      <td>0.0000</td>\n",
              "    </tr>\n",
              "    <tr>\n",
              "      <th>2</th>\n",
              "      <td>0.000000</td>\n",
              "      <td>0.284459</td>\n",
              "      <td>0.000000</td>\n",
              "      <td>0.000000</td>\n",
              "      <td>0.0000</td>\n",
              "      <td>0.0000</td>\n",
              "      <td>0.00000</td>\n",
              "      <td>0.000000</td>\n",
              "      <td>0.0000</td>\n",
              "      <td>0.000000</td>\n",
              "      <td>...</td>\n",
              "      <td>0.000000</td>\n",
              "      <td>0.00000</td>\n",
              "      <td>0.00000</td>\n",
              "      <td>0.000000</td>\n",
              "      <td>0.284459</td>\n",
              "      <td>0.236126</td>\n",
              "      <td>0.00000</td>\n",
              "      <td>0.284459</td>\n",
              "      <td>0.000000</td>\n",
              "      <td>0.0000</td>\n",
              "    </tr>\n",
              "    <tr>\n",
              "      <th>3</th>\n",
              "      <td>0.306149</td>\n",
              "      <td>0.000000</td>\n",
              "      <td>0.000000</td>\n",
              "      <td>0.000000</td>\n",
              "      <td>0.0000</td>\n",
              "      <td>0.0000</td>\n",
              "      <td>0.00000</td>\n",
              "      <td>0.000000</td>\n",
              "      <td>0.0000</td>\n",
              "      <td>0.000000</td>\n",
              "      <td>...</td>\n",
              "      <td>0.000000</td>\n",
              "      <td>0.00000</td>\n",
              "      <td>0.00000</td>\n",
              "      <td>0.000000</td>\n",
              "      <td>0.000000</td>\n",
              "      <td>0.000000</td>\n",
              "      <td>0.00000</td>\n",
              "      <td>0.000000</td>\n",
              "      <td>0.306149</td>\n",
              "      <td>0.0000</td>\n",
              "    </tr>\n",
              "    <tr>\n",
              "      <th>4</th>\n",
              "      <td>0.000000</td>\n",
              "      <td>0.000000</td>\n",
              "      <td>0.000000</td>\n",
              "      <td>0.321262</td>\n",
              "      <td>0.0000</td>\n",
              "      <td>0.0000</td>\n",
              "      <td>0.00000</td>\n",
              "      <td>0.000000</td>\n",
              "      <td>0.0000</td>\n",
              "      <td>0.321262</td>\n",
              "      <td>...</td>\n",
              "      <td>0.000000</td>\n",
              "      <td>0.00000</td>\n",
              "      <td>0.00000</td>\n",
              "      <td>0.000000</td>\n",
              "      <td>0.000000</td>\n",
              "      <td>0.000000</td>\n",
              "      <td>0.00000</td>\n",
              "      <td>0.000000</td>\n",
              "      <td>0.000000</td>\n",
              "      <td>0.0000</td>\n",
              "    </tr>\n",
              "    <tr>\n",
              "      <th>5</th>\n",
              "      <td>0.000000</td>\n",
              "      <td>0.000000</td>\n",
              "      <td>0.000000</td>\n",
              "      <td>0.000000</td>\n",
              "      <td>0.3337</td>\n",
              "      <td>0.3337</td>\n",
              "      <td>0.00000</td>\n",
              "      <td>0.000000</td>\n",
              "      <td>0.3337</td>\n",
              "      <td>0.000000</td>\n",
              "      <td>...</td>\n",
              "      <td>0.000000</td>\n",
              "      <td>0.00000</td>\n",
              "      <td>0.00000</td>\n",
              "      <td>0.000000</td>\n",
              "      <td>0.000000</td>\n",
              "      <td>0.000000</td>\n",
              "      <td>0.00000</td>\n",
              "      <td>0.000000</td>\n",
              "      <td>0.000000</td>\n",
              "      <td>0.3337</td>\n",
              "    </tr>\n",
              "    <tr>\n",
              "      <th>6</th>\n",
              "      <td>0.000000</td>\n",
              "      <td>0.000000</td>\n",
              "      <td>0.000000</td>\n",
              "      <td>0.000000</td>\n",
              "      <td>0.0000</td>\n",
              "      <td>0.0000</td>\n",
              "      <td>0.00000</td>\n",
              "      <td>0.000000</td>\n",
              "      <td>0.0000</td>\n",
              "      <td>0.000000</td>\n",
              "      <td>...</td>\n",
              "      <td>0.540559</td>\n",
              "      <td>0.27028</td>\n",
              "      <td>0.27028</td>\n",
              "      <td>0.000000</td>\n",
              "      <td>0.000000</td>\n",
              "      <td>0.224355</td>\n",
              "      <td>0.27028</td>\n",
              "      <td>0.000000</td>\n",
              "      <td>0.000000</td>\n",
              "      <td>0.0000</td>\n",
              "    </tr>\n",
              "  </tbody>\n",
              "</table>\n",
              "<p>7 rows × 61 columns</p>\n",
              "</div>\n",
              "      <button class=\"colab-df-convert\" onclick=\"convertToInteractive('df-89db2727-e556-43bf-8a01-d248e35cf81a')\"\n",
              "              title=\"Convert this dataframe to an interactive table.\"\n",
              "              style=\"display:none;\">\n",
              "        \n",
              "  <svg xmlns=\"http://www.w3.org/2000/svg\" height=\"24px\"viewBox=\"0 0 24 24\"\n",
              "       width=\"24px\">\n",
              "    <path d=\"M0 0h24v24H0V0z\" fill=\"none\"/>\n",
              "    <path d=\"M18.56 5.44l.94 2.06.94-2.06 2.06-.94-2.06-.94-.94-2.06-.94 2.06-2.06.94zm-11 1L8.5 8.5l.94-2.06 2.06-.94-2.06-.94L8.5 2.5l-.94 2.06-2.06.94zm10 10l.94 2.06.94-2.06 2.06-.94-2.06-.94-.94-2.06-.94 2.06-2.06.94z\"/><path d=\"M17.41 7.96l-1.37-1.37c-.4-.4-.92-.59-1.43-.59-.52 0-1.04.2-1.43.59L10.3 9.45l-7.72 7.72c-.78.78-.78 2.05 0 2.83L4 21.41c.39.39.9.59 1.41.59.51 0 1.02-.2 1.41-.59l7.78-7.78 2.81-2.81c.8-.78.8-2.07 0-2.86zM5.41 20L4 18.59l7.72-7.72 1.47 1.35L5.41 20z\"/>\n",
              "  </svg>\n",
              "      </button>\n",
              "      \n",
              "  <style>\n",
              "    .colab-df-container {\n",
              "      display:flex;\n",
              "      flex-wrap:wrap;\n",
              "      gap: 12px;\n",
              "    }\n",
              "\n",
              "    .colab-df-convert {\n",
              "      background-color: #E8F0FE;\n",
              "      border: none;\n",
              "      border-radius: 50%;\n",
              "      cursor: pointer;\n",
              "      display: none;\n",
              "      fill: #1967D2;\n",
              "      height: 32px;\n",
              "      padding: 0 0 0 0;\n",
              "      width: 32px;\n",
              "    }\n",
              "\n",
              "    .colab-df-convert:hover {\n",
              "      background-color: #E2EBFA;\n",
              "      box-shadow: 0px 1px 2px rgba(60, 64, 67, 0.3), 0px 1px 3px 1px rgba(60, 64, 67, 0.15);\n",
              "      fill: #174EA6;\n",
              "    }\n",
              "\n",
              "    [theme=dark] .colab-df-convert {\n",
              "      background-color: #3B4455;\n",
              "      fill: #D2E3FC;\n",
              "    }\n",
              "\n",
              "    [theme=dark] .colab-df-convert:hover {\n",
              "      background-color: #434B5C;\n",
              "      box-shadow: 0px 1px 3px 1px rgba(0, 0, 0, 0.15);\n",
              "      filter: drop-shadow(0px 1px 2px rgba(0, 0, 0, 0.3));\n",
              "      fill: #FFFFFF;\n",
              "    }\n",
              "  </style>\n",
              "\n",
              "      <script>\n",
              "        const buttonEl =\n",
              "          document.querySelector('#df-89db2727-e556-43bf-8a01-d248e35cf81a button.colab-df-convert');\n",
              "        buttonEl.style.display =\n",
              "          google.colab.kernel.accessAllowed ? 'block' : 'none';\n",
              "\n",
              "        async function convertToInteractive(key) {\n",
              "          const element = document.querySelector('#df-89db2727-e556-43bf-8a01-d248e35cf81a');\n",
              "          const dataTable =\n",
              "            await google.colab.kernel.invokeFunction('convertToInteractive',\n",
              "                                                     [key], {});\n",
              "          if (!dataTable) return;\n",
              "\n",
              "          const docLinkHtml = 'Like what you see? Visit the ' +\n",
              "            '<a target=\"_blank\" href=https://colab.research.google.com/notebooks/data_table.ipynb>data table notebook</a>'\n",
              "            + ' to learn more about interactive tables.';\n",
              "          element.innerHTML = '';\n",
              "          dataTable['output_type'] = 'display_data';\n",
              "          await google.colab.output.renderOutput(dataTable, element);\n",
              "          const docLink = document.createElement('div');\n",
              "          docLink.innerHTML = docLinkHtml;\n",
              "          element.appendChild(docLink);\n",
              "        }\n",
              "      </script>\n",
              "    </div>\n",
              "  </div>\n",
              "  "
            ]
          },
          "metadata": {},
          "execution_count": 12
        }
      ]
    },
    {
      "cell_type": "markdown",
      "source": [
        "Transform the query into VECTOR"
      ],
      "metadata": {
        "id": "IO_3WrGlxLNc"
      }
    },
    {
      "cell_type": "code",
      "source": [
        "query = 'explores the chemical processes'\n",
        "query = get_tokenized_list(query)\n",
        "query = remove_stopwords(query)\n",
        "q = []\n",
        "for w in word_stemmer(query):\n",
        "  q.append(w)\n",
        "q = ' '.join(q)\n",
        "q\n",
        "query_vector = vectorizerX.transform([q])\n",
        "q"
      ],
      "metadata": {
        "colab": {
          "base_uri": "https://localhost:8080/",
          "height": 36
        },
        "id": "kiAUsy9PxVoK",
        "outputId": "dcf3d769-0e35-4c80-f450-b9d6fd3f26ca"
      },
      "execution_count": null,
      "outputs": [
        {
          "output_type": "execute_result",
          "data": {
            "text/plain": [
              "'explor chemic process'"
            ],
            "application/vnd.google.colaboratory.intrinsic+json": {
              "type": "string"
            }
          },
          "metadata": {},
          "execution_count": 13
        }
      ]
    },
    {
      "cell_type": "markdown",
      "source": [
        "NOW CALCULATING THE COSINE SIMILARITY\n",
        "\n",
        "![cosine similarity.png](data:image/png;base64,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)"
      ],
      "metadata": {
        "id": "ixXFX2yTyeBU"
      }
    },
    {
      "cell_type": "code",
      "source": [
        "# calculate cosine similarities\n",
        "from sklearn.metrics.pairwise import cosine_similarity\n",
        "cosineSimilarities = cosine_similarity(doc_vector,query_vector).flatten()"
      ],
      "metadata": {
        "id": "lULICxp3ymqX"
      },
      "execution_count": null,
      "outputs": []
    },
    {
      "cell_type": "code",
      "source": [
        "related_docs_indices = cosineSimilarities.argsort()[:-10:-1]\n",
        "print(related_docs_indices)\n",
        "\n",
        "for i in related_docs_indices:\n",
        "    data = [cleaned_corpus[i]]\n",
        "    print(data)"
      ],
      "metadata": {
        "colab": {
          "base_uri": "https://localhost:8080/"
        },
        "id": "EVlySY_90KJa",
        "outputId": "6ab523a1-bb69-492c-aa5a-a9bb5e040a7b"
      },
      "execution_count": null,
      "outputs": [
        {
          "output_type": "stream",
          "name": "stdout",
          "text": [
            "[5 6 4 3 2 1 0]\n",
            "['biochemistri branch scienc explor chemic process within relat live organ']\n",
            "['sociolog studi societi , pattern social relationship , social interact , cultur surround everyday life']\n",
            "['chemistri scientif disciplin involv element compound compos atom , molecul ion']\n",
            "['in mathemat comput scienc algorithm finit sequenc well-defin computer-implement instruct']\n",
            "['physic natur scienc involv studi matter motion space time , along relat concept energi forc']\n",
            "['experiment calcul observ call scienc']\n",
            "['in comput scienc artifici intellig sometim call machin intellig intellig demonstr machin']\n"
          ]
        }
      ]
    }
  ]
}